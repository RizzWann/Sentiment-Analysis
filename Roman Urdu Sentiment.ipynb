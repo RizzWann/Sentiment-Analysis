{
 "cells": [
  {
   "cell_type": "code",
   "execution_count": 109,
   "metadata": {
    "id": "rKgKqfLofL9L"
   },
   "outputs": [],
   "source": [
    "import numpy as np\n",
    "import pandas as pd\n",
    "from itertools import combinations\n",
    "# A naive search method which you need to improve\n",
    "from difflib import SequenceMatcher"
   ]
  },
  {
   "cell_type": "markdown",
   "metadata": {
    "id": "CxrpHWWsfX--"
   },
   "source": [
    "The problem is to match the user's free-form input against a pre-determined list of banks. For example, user input 'bawag bank' should be matched to 'BAWAG Group AG'."
   ]
  },
  {
   "cell_type": "code",
   "execution_count": 110,
   "metadata": {
    "id": "3nsmwxZKfaqO"
   },
   "outputs": [],
   "source": [
    "# List of banks to compare\n",
    "banks =   ['Sberbank Europe AG',\n",
    "          'BAWAG Group AG',\n",
    "          'Raiffeisenbankengruppe OÖ Verbund eGen',\n",
    "          'Raiffeisen Bank International AG',\n",
    "          'Volksbanken Verbund',\n",
    "          'Erste Group Bank AG',\n",
    "          'KBC Groep',\n",
    "          'Investeringsmaatschappij Argenta',\n",
    "          'Belfius Bank',\n",
    "          'AXA Bank Belgium',\n",
    "          'The Bank of New York Mellon SA/NV',\n",
    "          'First Investment Bank AD',\n",
    "          'RCB Bank Ltd',\n",
    "          'Bank of Cyprus Holdings Public Limited Company',\n",
    "          'Hellenic Bank Public Company Limited',\n",
    "          'DekaBank Deutsche Girozentrale',\n",
    "          'Erwerbsgesellschaft der S-Finanzgruppe mbH & Co. KG',\n",
    "          'UBS Europe SE',\n",
    "          'DEUTSCHE APOTHEKER- UND ÄRZTEBANK EG',\n",
    "          'Volkswagen Bank Gesellschaft mit beschränkter Haftung',\n",
    "          'Münchener Hypothekenbank eG',\n",
    "          'DZ BANK AG Deutsche Zentral-Genossenschaftsbank, Frankfurt am Main',\n",
    "          'HASPA Finanzholding',\n",
    "          'State Street Europe Holdings Germany S.a.r.l. & Co. KG',\n",
    "          'J.P. Morgan AG',\n",
    "          'DEUTSCHE BANK AKTIENGESELLSCHAFT',\n",
    "          'COMMERZBANK Aktiengesellschaft',\n",
    "          'Landesbank Baden-Württemberg',\n",
    "          'Landesbank Hessen-Thüringen Girozentrale',\n",
    "          'Norddeutsche Landesbank - Girozentrale -',\n",
    "          'Deutsche Pfandbriefbank AG',\n",
    "          'Aareal Bank AG',\n",
    "          'Hamburg Commercial Bank AG',\n",
    "          'Bayerische Landesbank',\n",
    "          'Jyske Bank A/S',\n",
    "          'Sydbank A/S',\n",
    "          'Nykredit Realkredit A/S',\n",
    "          'Danske Bank A/S',\n",
    "          'Luminor Holding AS',\n",
    "          'Abanca Corporacion Bancaria S.A.',\n",
    "          'Banco Santander S.A.',\n",
    "          'Ibercaja Banco S.A.',\n",
    "          'Kutxabank S.A',\n",
    "          'Unicaja Banco S.A.',\n",
    "          'CaixaBank S.A.',\n",
    "          'Banco de Crédito Social Cooperativo',\n",
    "          'Banco Bilbao Vizcaya Argentaria S.A.',\n",
    "          'Banco de Sabadell S.A.',\n",
    "          'Bankinter S.A.',\n",
    "          'Kuntarahoitus Oyj',\n",
    "          'Nordea Bank Abp',\n",
    "          'OP Osuuskunta',\n",
    "          'SFIL',\n",
    "          'RCI Banque',\n",
    "          'Confédération Nationale du Crédit Mutuel',\n",
    "          'La Banque Postale',\n",
    "          'Bpifrance',\n",
    "          \"C.R.H. - Caisse de refinancement de l'habitat\",\n",
    "          'HSBC Continental Europe',\n",
    "          'Groupe BPCE',\n",
    "          'Groupe Crédit Agricole',\n",
    "          'Société générale',\n",
    "          'BNP Paribas',\n",
    "          'ALPHA SERVICES AND HOLDINGS S.A.',\n",
    "          'National Bank of Greece S.A.',\n",
    "          'Eurobank Ergasias Services and Holdings S.A.',\n",
    "          'Piraeus Financial Holdings',\n",
    "          'OTP-csoport',\n",
    "          'Magyar Bankholding',\n",
    "          'Barclays Bank Ireland plc',\n",
    "          'Citibank Holdings Ireland Limited',\n",
    "          'AIB Group plc',\n",
    "          'Bank of Ireland Group plc',\n",
    "          'Ulster Bank Ireland Designated Activity Company',\n",
    "          'Bank of America Europe Designated Activity Company',\n",
    "          'Íslandsbanki hf.',\n",
    "          'Landsbankinn hf.',\n",
    "          'Arion banki hf',\n",
    "          'Intesa Sanpaolo S.p.A.',\n",
    "          'Gruppo Bancario Finecobank  ',\n",
    "          'UniCredit S.p.A.',\n",
    "          'Gruppo Bancario Mediolanum  ',\n",
    "          'Credito Emiliano Holding S.p.A.',\n",
    "          'Banco BPM SpA',\n",
    "          'Banca Popolare di Sondrio, Società Cooperativa per Azioni',\n",
    "          'Banca Monte dei Paschi di Siena S.p.A.',\n",
    "          'CASSA CENTRALE BANCA',\n",
    "          'ICCREA BANCA S.P.A.',\n",
    "          'Mediobanca - Banca di Credito Finanziario S.p.A.',\n",
    "          'Akcine bendrove Šiauliu bankas',\n",
    "          'Precision Capital S.A.',\n",
    "          'RBC Investor Services Bank S.A.',\n",
    "          'J.P. Morgan Bank Luxembourg S.A.',\n",
    "          'Banque Internationale à Luxembourg',\n",
    "          'Banque et Caisse d´Epargne de l´Etat, Luxembourg',\n",
    "          'Akciju sabiedriba \"Citadele banka\"',\n",
    "          'MDB Group Limited',\n",
    "          'Bank of Valletta Plc',\n",
    "          'HSBC Bank Malta p.l.c.',\n",
    "          'BNG Bank N.V.',\n",
    "          'ING Groep N.V.',\n",
    "          'LP Group B.V.',\n",
    "          'de Volksbank N.V.',\n",
    "          'ABN AMRO Bank N.V.',\n",
    "          'Coöperatieve Rabobank U.A.',\n",
    "          'Nederlandse Waterschapsbank N.V.',\n",
    "          'Bank Polska Kasa Opieki S.A.',\n",
    "          'Powszechna Kasa Oszczednosci Bank Polski S.A.',\n",
    "          'LSF Nani Investments S.à r.l.',\n",
    "          'Banco Comercial Português SA',\n",
    "          'Caixa Geral de Depósitos SA',\n",
    "          'Banca Transilvania',\n",
    "          'Länförsäkringar Bank AB (publ)',\n",
    "          'Kommuninvest - group',\n",
    "          'Skandinaviska Enskilda Banken - group',\n",
    "          'SBAB Bank AB - group',\n",
    "          'Swedbank - group',\n",
    "          'Svenska Handelsbanken - group',\n",
    "          'Biser Topco S.à r.l.',\n",
    "          'Nova Ljubljanska Banka d.d. Ljubljana']"
   ]
  },
  {
   "cell_type": "code",
   "execution_count": 172,
   "metadata": {
    "id": "Va8q_kphfm2O"
   },
   "outputs": [],
   "source": [
    "# Examples of search strings\n",
    "s1 = 'Raiffaisen bank' # other options: 'Bawag bank', 'Erste', 'Raiffaisen bank'\n"
   ]
  },
  {
   "cell_type": "code",
   "execution_count": 173,
   "metadata": {
    "colab": {
     "base_uri": "https://localhost:8080/",
     "height": 206
    },
    "id": "GaIKgI5Zf6y9",
    "outputId": "331bd468-75eb-439e-9434-33595ae4e0de"
   },
   "outputs": [
    {
     "data": {
      "text/html": [
       "<div>\n",
       "<style scoped>\n",
       "    .dataframe tbody tr th:only-of-type {\n",
       "        vertical-align: middle;\n",
       "    }\n",
       "\n",
       "    .dataframe tbody tr th {\n",
       "        vertical-align: top;\n",
       "    }\n",
       "\n",
       "    .dataframe thead th {\n",
       "        text-align: right;\n",
       "    }\n",
       "</style>\n",
       "<table border=\"1\" class=\"dataframe\">\n",
       "  <thead>\n",
       "    <tr style=\"text-align: right;\">\n",
       "      <th></th>\n",
       "      <th>Bank 1</th>\n",
       "      <th>Bank 2</th>\n",
       "      <th>Score</th>\n",
       "    </tr>\n",
       "  </thead>\n",
       "  <tbody>\n",
       "    <tr>\n",
       "      <th>3</th>\n",
       "      <td>Raiffaisen bank</td>\n",
       "      <td>Raiffeisen Bank International AG</td>\n",
       "      <td>0.595745</td>\n",
       "    </tr>\n",
       "    <tr>\n",
       "      <th>77</th>\n",
       "      <td>Raiffaisen bank</td>\n",
       "      <td>Arion banki hf</td>\n",
       "      <td>0.551724</td>\n",
       "    </tr>\n",
       "    <tr>\n",
       "      <th>37</th>\n",
       "      <td>Raiffaisen bank</td>\n",
       "      <td>Danske Bank A/S</td>\n",
       "      <td>0.533333</td>\n",
       "    </tr>\n",
       "    <tr>\n",
       "      <th>8</th>\n",
       "      <td>Raiffaisen bank</td>\n",
       "      <td>Belfius Bank</td>\n",
       "      <td>0.518519</td>\n",
       "    </tr>\n",
       "    <tr>\n",
       "      <th>11</th>\n",
       "      <td>Raiffaisen bank</td>\n",
       "      <td>First Investment Bank AD</td>\n",
       "      <td>0.512821</td>\n",
       "    </tr>\n",
       "  </tbody>\n",
       "</table>\n",
       "</div>"
      ],
      "text/plain": [
       "             Bank 1                            Bank 2     Score\n",
       "3   Raiffaisen bank  Raiffeisen Bank International AG  0.595745\n",
       "77  Raiffaisen bank                    Arion banki hf  0.551724\n",
       "37  Raiffaisen bank                   Danske Bank A/S  0.533333\n",
       "8   Raiffaisen bank                      Belfius Bank  0.518519\n",
       "11  Raiffaisen bank          First Investment Bank AD  0.512821"
      ]
     },
     "execution_count": 173,
     "metadata": {},
     "output_type": "execute_result"
    }
   ],
   "source": [
    "res = []\n",
    "for token in banks:\n",
    "    res.append([s1, token, SequenceMatcher(lambda x: x==\" \", s1.lower(), token.lower()).ratio()])\n",
    "\n",
    "df2 = pd.DataFrame(res, columns=['Bank 1', 'Bank 2', 'Score'])\n",
    "# The outcome is not great, for this search query 'BAWAG Group AG' should have highest similarity\n",
    "df2.sort_values(by=['Score'], ascending=[False]).head()"
   ]
  },
  {
   "cell_type": "code",
   "execution_count": 174,
   "metadata": {
    "colab": {
     "base_uri": "https://localhost:8080/",
     "height": 81
    },
    "id": "TXc8yBZOhIH0",
    "outputId": "fbe6efd4-2868-446d-f49d-fea1aca1020b"
   },
   "outputs": [
    {
     "data": {
      "text/html": [
       "<div>\n",
       "<style scoped>\n",
       "    .dataframe tbody tr th:only-of-type {\n",
       "        vertical-align: middle;\n",
       "    }\n",
       "\n",
       "    .dataframe tbody tr th {\n",
       "        vertical-align: top;\n",
       "    }\n",
       "\n",
       "    .dataframe thead th {\n",
       "        text-align: right;\n",
       "    }\n",
       "</style>\n",
       "<table border=\"1\" class=\"dataframe\">\n",
       "  <thead>\n",
       "    <tr style=\"text-align: right;\">\n",
       "      <th></th>\n",
       "      <th>Bank 1</th>\n",
       "      <th>Bank 2</th>\n",
       "      <th>Score</th>\n",
       "    </tr>\n",
       "  </thead>\n",
       "  <tbody>\n",
       "    <tr>\n",
       "      <th>1</th>\n",
       "      <td>Raiffaisen bank</td>\n",
       "      <td>BAWAG Group AG</td>\n",
       "      <td>0.137931</td>\n",
       "    </tr>\n",
       "  </tbody>\n",
       "</table>\n",
       "</div>"
      ],
      "text/plain": [
       "            Bank 1          Bank 2     Score\n",
       "1  Raiffaisen bank  BAWAG Group AG  0.137931"
      ]
     },
     "execution_count": 174,
     "metadata": {},
     "output_type": "execute_result"
    }
   ],
   "source": [
    "#The desired combination has a low score\n",
    "idx = df2['Bank 2'].isin(['BAWAG Group AG'])\n",
    "\n",
    "df2[idx].sort_values(by=['Score'], ascending=[False]).head()"
   ]
  },
  {
   "cell_type": "markdown",
   "metadata": {},
   "source": [
    "# QUESTION # 2(A)"
   ]
  },
  {
   "cell_type": "code",
   "execution_count": 64,
   "metadata": {
    "scrolled": true
   },
   "outputs": [],
   "source": [
    "#!pip install snscrape"
   ]
  },
  {
   "cell_type": "code",
   "execution_count": null,
   "metadata": {},
   "outputs": [],
   "source": [
    "#(Khushi OR Gussa)\n",
    "#lockdown"
   ]
  },
  {
   "cell_type": "code",
   "execution_count": null,
   "metadata": {},
   "outputs": [],
   "source": [
    "import snscrape.modules.twitter as sntwitter\n",
    "import pandas as pd\n",
    "\n",
    "tweets_list2 = []\n",
    "keywords = \"(Khushi OR Gussa) since:2019-01-01 until:2022-01-31\"\n",
    "j=0\n",
    "for i,tweet in enumerate(sntwitter.TwitterSearchScraper(keywords).get_items()):\n",
    "    if j==500:\n",
    "        break\n",
    "    if not('@' in tweet.rawContent) and tweet.lang in ['hi','ur'] and not('http' in tweet.rawContent) and not('#' in tweet.rawContent):\n",
    "             tweets_list2.append([tweet.rawContent])\n",
    "             j+=1\n",
    "    \n",
    "\n",
    "tweets_df2 = pd.DataFrame(tweets_list2, columns=['Text'])\n",
    "tweets_df2.head(10)"
   ]
  },
  {
   "cell_type": "code",
   "execution_count": 10,
   "metadata": {},
   "outputs": [
    {
     "data": {
      "text/plain": [
       "(500, 1)"
      ]
     },
     "execution_count": 10,
     "metadata": {},
     "output_type": "execute_result"
    }
   ],
   "source": [
    "tweets_df2.shape"
   ]
  },
  {
   "cell_type": "code",
   "execution_count": 11,
   "metadata": {},
   "outputs": [],
   "source": [
    "tweets_df2.to_csv(\"E:MSDS/MS-2/NLP/sentiment.csv\",index=False)"
   ]
  },
  {
   "cell_type": "code",
   "execution_count": 32,
   "metadata": {},
   "outputs": [
    {
     "data": {
      "text/html": [
       "<div>\n",
       "<style scoped>\n",
       "    .dataframe tbody tr th:only-of-type {\n",
       "        vertical-align: middle;\n",
       "    }\n",
       "\n",
       "    .dataframe tbody tr th {\n",
       "        vertical-align: top;\n",
       "    }\n",
       "\n",
       "    .dataframe thead th {\n",
       "        text-align: right;\n",
       "    }\n",
       "</style>\n",
       "<table border=\"1\" class=\"dataframe\">\n",
       "  <thead>\n",
       "    <tr style=\"text-align: right;\">\n",
       "      <th></th>\n",
       "      <th>Text</th>\n",
       "    </tr>\n",
       "  </thead>\n",
       "  <tbody>\n",
       "    <tr>\n",
       "      <th>0</th>\n",
       "      <td>Thanks nahin bolti bhi toh bhi faraq aur gussa...</td>\n",
       "    </tr>\n",
       "    <tr>\n",
       "      <th>1</th>\n",
       "      <td>Ab to khushi ka gum hai na gum ki khushi mujhe...</td>\n",
       "    </tr>\n",
       "    <tr>\n",
       "      <th>2</th>\n",
       "      <td>Gauahar aap every year  bigg mai jaati hai aur...</td>\n",
       "    </tr>\n",
       "    <tr>\n",
       "      <th>3</th>\n",
       "      <td>Ab herat se hoti jub mili koi moqa khushi ka\\n...</td>\n",
       "    </tr>\n",
       "    <tr>\n",
       "      <th>4</th>\n",
       "      <td>Yehi thumkay ghalti se koi khatoon laga le khu...</td>\n",
       "    </tr>\n",
       "  </tbody>\n",
       "</table>\n",
       "</div>"
      ],
      "text/plain": [
       "                                                Text\n",
       "0  Thanks nahin bolti bhi toh bhi faraq aur gussa...\n",
       "1  Ab to khushi ka gum hai na gum ki khushi mujhe...\n",
       "2  Gauahar aap every year  bigg mai jaati hai aur...\n",
       "3  Ab herat se hoti jub mili koi moqa khushi ka\\n...\n",
       "4  Yehi thumkay ghalti se koi khatoon laga le khu..."
      ]
     },
     "execution_count": 32,
     "metadata": {},
     "output_type": "execute_result"
    }
   ],
   "source": [
    "import pandas as pd\n",
    "df = pd.read_csv(\"E:MSDS/MS-2/NLP/sentiment.csv\")\n",
    "df.head()"
   ]
  },
  {
   "cell_type": "code",
   "execution_count": 33,
   "metadata": {},
   "outputs": [
    {
     "data": {
      "text/plain": [
       "500"
      ]
     },
     "execution_count": 33,
     "metadata": {},
     "output_type": "execute_result"
    }
   ],
   "source": [
    "import re\n",
    "corpus=[]\n",
    "stopwords=['ai', 'ayi', 'hy', 'hai', 'main', 'ki', 'tha', 'koi', 'ko', 'sy', 'woh', 'bhi', 'aur', 'wo', 'yeh', 'rha', 'hota', 'ho', 'ga', 'ka', 'le', 'lye', 'kr', 'kar', 'lye', 'liye', 'hotay', 'waisay', 'gya', 'gaya', 'kch', 'ab', 'thy', 'thay', 'houn', 'hain', 'han', 'to', 'is', 'hi', 'jo', 'kya', 'thi', 'se', 'pe', 'phr', 'wala', 'waisay', 'us', 'na', 'ny', 'hun', 'rha', 'raha', 'ja', 'rahay', 'abi', 'uski', 'ne', 'haan', 'acha', 'nai', 'sent', 'photo', 'you', 'kafi', 'gai', 'rhy', 'kuch', 'jata', 'aye', 'ya', 'dono', 'hoa', 'aese', 'de', 'wohi', 'jati', 'jb', 'krta', 'lg', 'rahi', 'hui', 'karna', 'krna', 'gi', 'hova', 'yehi', 'jana', 'jye', 'chal', 'mil', 'tu', 'hum', 'par', 'hay', 'kis', 'sb', 'gy', 'dain', 'krny', 'tou','\\n',',','.','?']\n",
    "for i in range(0,500):\n",
    "    doc = re.sub('[^a-zA-z]',' ',df.iloc[:,0].values[i])\n",
    "    doc = doc.lower() \n",
    "    doc = doc.split()\n",
    "    doc = [word for word in doc if not word in stopwords]\n",
    "    doc =' '.join(doc)\n",
    "    if doc is not None:\n",
    "        corpus.append(doc)\n",
    "len(corpus)  "
   ]
  },
  {
   "cell_type": "code",
   "execution_count": 34,
   "metadata": {},
   "outputs": [],
   "source": [
    "from sklearn.feature_extraction.text import TfidfVectorizer"
   ]
  },
  {
   "cell_type": "code",
   "execution_count": 35,
   "metadata": {},
   "outputs": [
    {
     "data": {
      "text/plain": [
       "array([[0., 0., 0., ..., 0., 0., 0.],\n",
       "       [0., 0., 0., ..., 0., 0., 0.],\n",
       "       [0., 0., 0., ..., 0., 0., 0.],\n",
       "       ...,\n",
       "       [0., 0., 0., ..., 0., 0., 0.],\n",
       "       [0., 0., 0., ..., 0., 0., 0.],\n",
       "       [0., 0., 0., ..., 0., 0., 0.]])"
      ]
     },
     "execution_count": 35,
     "metadata": {},
     "output_type": "execute_result"
    }
   ],
   "source": [
    "cv=TfidfVectorizer()\n",
    "X=cv.fit_transform(corpus).toarray()\n",
    "X"
   ]
  },
  {
   "cell_type": "code",
   "execution_count": null,
   "metadata": {},
   "outputs": [],
   "source": [
    "from sklearn.cluster import KMeans \n",
    "kmeans = KMeans(n_clusters=5, random_state=42,n_init=\"auto\").fit(X)"
   ]
  },
  {
   "cell_type": "code",
   "execution_count": 37,
   "metadata": {},
   "outputs": [],
   "source": [
    "#!pip install threadpoolctl==3.1.0"
   ]
  },
  {
   "cell_type": "code",
   "execution_count": 48,
   "metadata": {},
   "outputs": [
    {
     "data": {
      "text/plain": [
       "array([2, 3, 0, 3, 2, 2, 2, 3, 2, 3, 3, 3, 3, 2, 3, 1, 2, 4, 3, 2, 3, 2,\n",
       "       4, 3, 3, 3, 2, 3, 4, 3, 2, 3, 3, 3, 3, 3, 3, 3, 3, 2, 3, 3, 2, 2,\n",
       "       4, 3, 0, 3, 3, 2, 3, 2, 2, 3, 3, 0, 3, 3, 2, 2, 3, 0, 3, 3, 3, 3,\n",
       "       2, 3, 3, 3, 3, 3, 2, 3, 3, 3, 3, 1, 3, 3, 2, 3, 3, 2, 3, 3, 3, 3,\n",
       "       3, 3, 3, 2, 3, 3, 3, 3, 3, 3, 3, 3, 2, 3, 0, 3, 3, 3, 3, 3, 2, 2,\n",
       "       3, 2, 3, 2, 3, 3, 2, 0, 3, 3, 2, 3, 3, 3, 3, 3, 2, 3, 2, 2, 2, 3,\n",
       "       2, 3, 2, 2, 2, 1, 1, 2, 3, 3, 3, 3, 3, 2, 3, 2, 3, 3, 3, 3, 3, 0,\n",
       "       1, 3, 2, 3, 3, 3, 3, 3, 3, 3, 3, 4, 3, 2, 3, 3, 2, 3, 3, 3, 2, 2,\n",
       "       2, 2, 3, 1, 1, 1, 0, 1, 1, 1, 1, 1, 1, 3, 2, 1, 1, 1, 2, 1, 4, 3,\n",
       "       0, 3, 1, 1, 3, 1, 4, 3, 1, 3, 1, 2, 3, 0, 3, 3, 2, 2, 2, 3, 3, 3,\n",
       "       3, 2, 3, 0, 4, 2, 1, 4, 2, 3, 1, 1, 4, 2, 3, 0, 2, 3, 2, 2, 4, 3,\n",
       "       4, 1, 2, 2, 2, 3, 3, 3, 3, 4, 3, 1, 0, 4, 4, 4, 3, 3, 2, 3, 3, 4,\n",
       "       1, 3, 0, 1, 4, 4, 4, 4, 4, 3, 4, 4, 4, 4, 4, 2, 3, 1, 4, 1, 3, 1,\n",
       "       3, 2, 0, 0, 3, 3, 3, 2, 1, 1, 1, 1, 1, 1, 1, 3, 3, 3, 3, 1, 1, 1,\n",
       "       1, 1, 1, 4, 1, 1, 1, 3, 1, 3, 1, 0, 1, 3, 3, 1, 1, 1, 1, 1, 1, 1,\n",
       "       1, 1, 1, 1, 1, 1, 1, 1, 1, 1, 1, 1, 1, 1, 1, 1, 4, 3, 3, 3, 2, 3,\n",
       "       3, 4, 4, 3, 4, 4, 4, 4, 4, 4, 4, 4, 3, 4, 4, 3, 4, 1, 3, 4, 1, 0,\n",
       "       3, 3, 2, 0, 4, 3, 3, 3, 0, 2, 2, 3, 3, 0, 3, 3, 2, 0, 2, 3, 2, 2,\n",
       "       3, 2, 2, 3, 2, 3, 0, 2, 2, 4, 3, 0, 3, 3, 4, 2, 0, 3, 3, 2, 2, 2,\n",
       "       0, 2, 2, 3, 3, 2, 3, 3, 3, 3, 2, 3, 3, 0, 0, 3, 3, 3, 3, 3, 3, 3,\n",
       "       3, 2, 3, 3, 3, 3, 2, 2, 4, 3, 3, 2, 3, 2, 3, 3, 0, 3, 2, 3, 3, 3,\n",
       "       4, 2, 4, 2, 3, 3, 3, 3, 3, 2, 2, 3, 3, 0, 3, 3, 2, 3, 3, 2, 4, 2,\n",
       "       3, 3, 3, 3, 3, 2, 2, 0, 3, 3, 4, 3, 3, 3, 3, 4])"
      ]
     },
     "execution_count": 48,
     "metadata": {},
     "output_type": "execute_result"
    }
   ],
   "source": [
    "(kmeans.labels_)"
   ]
  },
  {
   "cell_type": "code",
   "execution_count": 39,
   "metadata": {},
   "outputs": [
    {
     "data": {
      "text/plain": [
       "500"
      ]
     },
     "execution_count": 39,
     "metadata": {},
     "output_type": "execute_result"
    }
   ],
   "source": [
    "len(kmeans.labels_)"
   ]
  },
  {
   "cell_type": "code",
   "execution_count": 42,
   "metadata": {},
   "outputs": [
    {
     "data": {
      "text/html": [
       "<div>\n",
       "<style scoped>\n",
       "    .dataframe tbody tr th:only-of-type {\n",
       "        vertical-align: middle;\n",
       "    }\n",
       "\n",
       "    .dataframe tbody tr th {\n",
       "        vertical-align: top;\n",
       "    }\n",
       "\n",
       "    .dataframe thead th {\n",
       "        text-align: right;\n",
       "    }\n",
       "</style>\n",
       "<table border=\"1\" class=\"dataframe\">\n",
       "  <thead>\n",
       "    <tr style=\"text-align: right;\">\n",
       "      <th></th>\n",
       "      <th>Text</th>\n",
       "      <th>C_Text</th>\n",
       "      <th>label</th>\n",
       "    </tr>\n",
       "  </thead>\n",
       "  <tbody>\n",
       "    <tr>\n",
       "      <th>0</th>\n",
       "      <td>Thanks nahin bolti bhi toh bhi faraq aur gussa...</td>\n",
       "      <td>thanks nahin bolti toh faraq gussa parta bola ...</td>\n",
       "      <td>2</td>\n",
       "    </tr>\n",
       "    <tr>\n",
       "      <th>1</th>\n",
       "      <td>Ab to khushi ka gum hai na gum ki khushi mujhe...</td>\n",
       "      <td>khushi gum gum khushi mujhe behis bana chuki b...</td>\n",
       "      <td>3</td>\n",
       "    </tr>\n",
       "    <tr>\n",
       "      <th>2</th>\n",
       "      <td>Gauahar aap every year  bigg mai jaati hai aur...</td>\n",
       "      <td>gauahar aap every year bigg mai jaati aap bigg...</td>\n",
       "      <td>0</td>\n",
       "    </tr>\n",
       "    <tr>\n",
       "      <th>3</th>\n",
       "      <td>Ab herat se hoti jub mili koi moqa khushi ka\\n...</td>\n",
       "      <td>herat hoti jub mili moqa khushi ye zalim zaman...</td>\n",
       "      <td>3</td>\n",
       "    </tr>\n",
       "    <tr>\n",
       "      <th>4</th>\n",
       "      <td>Yehi thumkay ghalti se koi khatoon laga le khu...</td>\n",
       "      <td>thumkay ghalti khatoon laga khushi mein bas</td>\n",
       "      <td>2</td>\n",
       "    </tr>\n",
       "  </tbody>\n",
       "</table>\n",
       "</div>"
      ],
      "text/plain": [
       "                                                Text  \\\n",
       "0  Thanks nahin bolti bhi toh bhi faraq aur gussa...   \n",
       "1  Ab to khushi ka gum hai na gum ki khushi mujhe...   \n",
       "2  Gauahar aap every year  bigg mai jaati hai aur...   \n",
       "3  Ab herat se hoti jub mili koi moqa khushi ka\\n...   \n",
       "4  Yehi thumkay ghalti se koi khatoon laga le khu...   \n",
       "\n",
       "                                              C_Text  label  \n",
       "0  thanks nahin bolti toh faraq gussa parta bola ...      2  \n",
       "1  khushi gum gum khushi mujhe behis bana chuki b...      3  \n",
       "2  gauahar aap every year bigg mai jaati aap bigg...      0  \n",
       "3  herat hoti jub mili moqa khushi ye zalim zaman...      3  \n",
       "4        thumkay ghalti khatoon laga khushi mein bas      2  "
      ]
     },
     "execution_count": 42,
     "metadata": {},
     "output_type": "execute_result"
    }
   ],
   "source": [
    "df['C_Text']=corpus\n",
    "df['label']=kmeans.labels_\n",
    "df.head()"
   ]
  },
  {
   "cell_type": "code",
   "execution_count": 43,
   "metadata": {},
   "outputs": [
    {
     "data": {
      "text/plain": [
       "'herat hoti jub mili moqa khushi ye zalim zamana kia samjhe ghum khud pai beta bhol he pawn manzar e mayat ankho dekha'"
      ]
     },
     "execution_count": 43,
     "metadata": {},
     "output_type": "execute_result"
    }
   ],
   "source": [
    "df.C_Text.iloc[3]"
   ]
  },
  {
   "cell_type": "code",
   "execution_count": 44,
   "metadata": {},
   "outputs": [
    {
     "data": {
      "text/plain": [
       "'Ab herat se hoti jub mili koi moqa khushi ka\\nYe zalim zamana Kia samjhe ga ghum wo jo khud pai na beta\\nBhol he na pawn manzar e mayat jo ankho nai dekha 😔💔🔥'"
      ]
     },
     "execution_count": 44,
     "metadata": {},
     "output_type": "execute_result"
    }
   ],
   "source": [
    "df.Text.iloc[3]"
   ]
  },
  {
   "cell_type": "code",
   "execution_count": null,
   "metadata": {},
   "outputs": [],
   "source": [
    "df.to_csv(\"E:MSDS/MS-2/NLP/c_sentiment.csv\",index=False)"
   ]
  },
  {
   "cell_type": "code",
   "execution_count": 120,
   "metadata": {},
   "outputs": [],
   "source": [
    "import pandas as pd\n",
    "import seaborn as sns\n"
   ]
  },
  {
   "cell_type": "code",
   "execution_count": 121,
   "metadata": {
    "scrolled": true
   },
   "outputs": [
    {
     "data": {
      "text/html": [
       "<div>\n",
       "<style scoped>\n",
       "    .dataframe tbody tr th:only-of-type {\n",
       "        vertical-align: middle;\n",
       "    }\n",
       "\n",
       "    .dataframe tbody tr th {\n",
       "        vertical-align: top;\n",
       "    }\n",
       "\n",
       "    .dataframe thead th {\n",
       "        text-align: right;\n",
       "    }\n",
       "</style>\n",
       "<table border=\"1\" class=\"dataframe\">\n",
       "  <thead>\n",
       "    <tr style=\"text-align: right;\">\n",
       "      <th></th>\n",
       "      <th>Text</th>\n",
       "      <th>C_Text</th>\n",
       "      <th>label</th>\n",
       "    </tr>\n",
       "  </thead>\n",
       "  <tbody>\n",
       "    <tr>\n",
       "      <th>0</th>\n",
       "      <td>Thanks nahin bolti bhi toh bhi faraq aur gussa...</td>\n",
       "      <td>thanks nahin bolti toh faraq gussa parta bola ...</td>\n",
       "      <td>2</td>\n",
       "    </tr>\n",
       "    <tr>\n",
       "      <th>1</th>\n",
       "      <td>Ab to khushi ka gum hai na gum ki khushi mujhe...</td>\n",
       "      <td>khushi gum gum khushi mujhe behis bana chuki b...</td>\n",
       "      <td>3</td>\n",
       "    </tr>\n",
       "    <tr>\n",
       "      <th>2</th>\n",
       "      <td>Gauahar aap every year  bigg mai jaati hai aur...</td>\n",
       "      <td>gauahar aap every year bigg mai jaati aap bigg...</td>\n",
       "      <td>0</td>\n",
       "    </tr>\n",
       "    <tr>\n",
       "      <th>3</th>\n",
       "      <td>Ab herat se hoti jub mili koi moqa khushi ka\\n...</td>\n",
       "      <td>herat hoti jub mili moqa khushi ye zalim zaman...</td>\n",
       "      <td>3</td>\n",
       "    </tr>\n",
       "    <tr>\n",
       "      <th>4</th>\n",
       "      <td>Yehi thumkay ghalti se koi khatoon laga le khu...</td>\n",
       "      <td>thumkay ghalti khatoon laga khushi mein bas</td>\n",
       "      <td>2</td>\n",
       "    </tr>\n",
       "  </tbody>\n",
       "</table>\n",
       "</div>"
      ],
      "text/plain": [
       "                                                Text  \\\n",
       "0  Thanks nahin bolti bhi toh bhi faraq aur gussa...   \n",
       "1  Ab to khushi ka gum hai na gum ki khushi mujhe...   \n",
       "2  Gauahar aap every year  bigg mai jaati hai aur...   \n",
       "3  Ab herat se hoti jub mili koi moqa khushi ka\\n...   \n",
       "4  Yehi thumkay ghalti se koi khatoon laga le khu...   \n",
       "\n",
       "                                              C_Text  label  \n",
       "0  thanks nahin bolti toh faraq gussa parta bola ...      2  \n",
       "1  khushi gum gum khushi mujhe behis bana chuki b...      3  \n",
       "2  gauahar aap every year bigg mai jaati aap bigg...      0  \n",
       "3  herat hoti jub mili moqa khushi ye zalim zaman...      3  \n",
       "4        thumkay ghalti khatoon laga khushi mein bas      2  "
      ]
     },
     "execution_count": 121,
     "metadata": {},
     "output_type": "execute_result"
    }
   ],
   "source": [
    "df = pd.read_csv(\"E:MSDS/MS-2/NLP/c_sentiment.csv\")\n",
    "df.head()\n"
   ]
  },
  {
   "cell_type": "code",
   "execution_count": 122,
   "metadata": {},
   "outputs": [
    {
     "data": {
      "text/plain": [
       "(500, 3)"
      ]
     },
     "execution_count": 122,
     "metadata": {},
     "output_type": "execute_result"
    }
   ],
   "source": [
    "df.shape"
   ]
  },
  {
   "cell_type": "code",
   "execution_count": 123,
   "metadata": {},
   "outputs": [
    {
     "data": {
      "text/plain": [
       "Text      0\n",
       "C_Text    3\n",
       "label     0\n",
       "dtype: int64"
      ]
     },
     "execution_count": 123,
     "metadata": {},
     "output_type": "execute_result"
    }
   ],
   "source": [
    "df.isna().sum()"
   ]
  },
  {
   "cell_type": "code",
   "execution_count": 124,
   "metadata": {},
   "outputs": [],
   "source": [
    "df.dropna(axis=0,inplace=True)"
   ]
  },
  {
   "cell_type": "code",
   "execution_count": 125,
   "metadata": {},
   "outputs": [
    {
     "data": {
      "text/plain": [
       "(497, 3)"
      ]
     },
     "execution_count": 125,
     "metadata": {},
     "output_type": "execute_result"
    }
   ],
   "source": [
    "df.shape"
   ]
  },
  {
   "cell_type": "code",
   "execution_count": 126,
   "metadata": {},
   "outputs": [],
   "source": [
    "df=df.sample(497)"
   ]
  },
  {
   "cell_type": "code",
   "execution_count": 127,
   "metadata": {},
   "outputs": [
    {
     "data": {
      "text/plain": [
       "3    231\n",
       "2    105\n",
       "1     77\n",
       "4     53\n",
       "0     31\n",
       "Name: label, dtype: int64"
      ]
     },
     "execution_count": 127,
     "metadata": {},
     "output_type": "execute_result"
    }
   ],
   "source": [
    "df.label.value_counts()"
   ]
  },
  {
   "cell_type": "code",
   "execution_count": 128,
   "metadata": {},
   "outputs": [
    {
     "data": {
      "text/plain": [
       "<AxesSubplot:xlabel='label', ylabel='count'>"
      ]
     },
     "execution_count": 128,
     "metadata": {},
     "output_type": "execute_result"
    },
    {
     "data": {
      "image/png": "[encoded data removed]",
      "text/plain": [
       "<Figure size 432x288 with 1 Axes>"
      ]
     },
     "metadata": {
      "needs_background": "light"
     },
     "output_type": "display_data"
    }
   ],
   "source": [
    "sns.countplot(x='label',data=df)"
   ]
  },
  {
   "cell_type": "code",
   "execution_count": 191,
   "metadata": {},
   "outputs": [],
   "source": [
    "from sklearn.metrics import classification_report,confusion_matrix,precision_score\n",
    "from sklearn.feature_extraction.text import TfidfVectorizer\n",
    "from sklearn.feature_extraction.text import CountVectorizer\n",
    "from sklearn.model_selection import train_test_split\n",
    "from sklearn.linear_model import LogisticRegression\n",
    "from sklearn.ensemble import RandomForestClassifier\n",
    "from sklearn.naive_bayes import MultinomialNB\n",
    "from sklearn.linear_model import Perceptron\n",
    "from sklearn.svm import SVC"
   ]
  },
  {
   "cell_type": "code",
   "execution_count": 130,
   "metadata": {},
   "outputs": [],
   "source": [
    "ngram = CountVectorizer(ngram_range=(1,3))\n",
    "raw = CountVectorizer()\n",
    "tf = TfidfVectorizer()"
   ]
  },
  {
   "cell_type": "code",
   "execution_count": 131,
   "metadata": {},
   "outputs": [],
   "source": [
    "X_raw = raw.fit_transform(df.C_Text).toarray()\n",
    "X_ngram = ngram.fit_transform(df.C_Text).toarray()\n",
    "X_tf = tf.fit_transform(df.C_Text).toarray()"
   ]
  },
  {
   "cell_type": "code",
   "execution_count": 132,
   "metadata": {},
   "outputs": [],
   "source": [
    "from imblearn.over_sampling import SMOTE\n",
    "from collections import Counter"
   ]
  },
  {
   "cell_type": "code",
   "execution_count": 133,
   "metadata": {},
   "outputs": [],
   "source": [
    "X_raw,y_raw=SMOTE().fit_resample(X_raw, df.label)"
   ]
  },
  {
   "cell_type": "code",
   "execution_count": 134,
   "metadata": {},
   "outputs": [
    {
     "name": "stdout",
     "output_type": "stream",
     "text": [
      "[(0, 231), (1, 231), (2, 231), (3, 231), (4, 231)]\n"
     ]
    }
   ],
   "source": [
    "print(sorted(Counter(y_raw).items()))"
   ]
  },
  {
   "cell_type": "code",
   "execution_count": 135,
   "metadata": {},
   "outputs": [],
   "source": [
    "X_ngram,y_ngram=SMOTE().fit_resample(X_ngram, df.label)\n",
    "X_tf,y_tf=SMOTE().fit_resample(X_tf, df.label)"
   ]
  },
  {
   "cell_type": "code",
   "execution_count": 136,
   "metadata": {},
   "outputs": [
    {
     "data": {
      "text/plain": [
       "<AxesSubplot:xlabel='label', ylabel='count'>"
      ]
     },
     "execution_count": 136,
     "metadata": {},
     "output_type": "execute_result"
    },
    {
     "data": {
      "image/png": "[encoded data removed]",
      "text/plain": [
       "<Figure size 432x288 with 1 Axes>"
      ]
     },
     "metadata": {
      "needs_background": "light"
     },
     "output_type": "display_data"
    }
   ],
   "source": [
    "sns.countplot(x=y_tf)"
   ]
  },
  {
   "cell_type": "code",
   "execution_count": 137,
   "metadata": {},
   "outputs": [],
   "source": [
    "X_trainRaw, X_testRaw, y_trainRaw, y_testRaw = train_test_split(X_raw, y_raw, test_size=0.2, random_state=42)\n",
    "X_trainNGRAM, X_testNGRAM, y_trainNGRAM, y_testNGRAM = train_test_split(X_ngram, y_ngram, test_size=0.2, random_state=42)\n",
    "X_trainTF, X_testTF, y_trainTF, y_testTF = train_test_split(X_tf, y_tf, test_size=0.2, random_state=42)"
   ]
  },
  {
   "cell_type": "code",
   "execution_count": 181,
   "metadata": {},
   "outputs": [],
   "source": [
    "models = []\n",
    "models.append(('LogisticRegression',LogisticRegression()))\n",
    "models.append(('Perceptron',Perceptron(tol=1e-3, random_state=42)))\n",
    "models.append(('RandomForest',RandomForestClassifier(random_state=42)))\n",
    "models.append(('NB',MultinomialNB()))\n",
    "models.append(('SVM',SVC()))"
   ]
  },
  {
   "cell_type": "code",
   "execution_count": 184,
   "metadata": {},
   "outputs": [],
   "source": [
    "import matplotlib.pyplot as plt\n",
    "%matplotlib inline"
   ]
  },
  {
   "cell_type": "code",
   "execution_count": 199,
   "metadata": {},
   "outputs": [],
   "source": [
    "def fetch_reports(X_train,X_test,y_train,y_test,bow):\n",
    "    print(f'Reprot for Bag of words {bow}')\n",
    "    for name,model in models:\n",
    "        model.fit(X_train,y_train)\n",
    "        pred = model.predict(X_test)\n",
    "        print(f'Report of Model {name}')\n",
    "        print(classification_report(y_test,pred,zero_division=1,labels=[0,1, 2, 3, 4]))\n",
    "        print(f\"Micro AVG:{precision_score(y_test, pred, average='micro')}\")\n",
    "        print(f\"Macro AVG:{precision_score(y_test, pred, average='macro')}\")\n",
    "        confusion=confusion_matrix(y_test,pred)\n",
    "        sns.heatmap(confusion,annot=True,xticklabels=['very -ve','-ve','neutral','+ve','very +ve'],\n",
    "                   yticklabels=['very -ve','-ve','neutral','+ve','very +ve']\n",
    "                   )\n",
    "        plt.show()\n",
    "        print('<------------------------------------------------------------->')"
   ]
  },
  {
   "cell_type": "code",
   "execution_count": 200,
   "metadata": {},
   "outputs": [
    {
     "name": "stdout",
     "output_type": "stream",
     "text": [
      "Reprot for Bag of words Raw\n",
      "Report of Model LogisticRegression\n",
      "              precision    recall  f1-score   support\n",
      "\n",
      "           0       0.72      0.90      0.80        49\n",
      "           1       0.96      0.98      0.97        52\n",
      "           2       0.96      0.87      0.91        52\n",
      "           3       0.85      0.68      0.76        41\n",
      "           4       1.00      1.00      1.00        37\n",
      "\n",
      "    accuracy                           0.89       231\n",
      "   macro avg       0.90      0.89      0.89       231\n",
      "weighted avg       0.90      0.89      0.89       231\n",
      "\n",
      "Micro AVG:0.8874458874458875\n",
      "Macro AVG:0.8979014566697439\n"
     ]
    },
    {
     "data": {
      "image/png": "[encoded data removed]",
      "text/plain": [
       "<Figure size 432x288 with 2 Axes>"
      ]
     },
     "metadata": {
      "needs_background": "light"
     },
     "output_type": "display_data"
    },
    {
     "name": "stdout",
     "output_type": "stream",
     "text": [
      "<------------------------------------------------------------->\n",
      "Report of Model Perceptron\n",
      "              precision    recall  f1-score   support\n",
      "\n",
      "           0       0.82      0.86      0.84        49\n",
      "           1       0.96      0.98      0.97        52\n",
      "           2       0.82      0.96      0.88        52\n",
      "           3       0.90      0.63      0.74        41\n",
      "           4       1.00      1.00      1.00        37\n",
      "\n",
      "    accuracy                           0.89       231\n",
      "   macro avg       0.90      0.89      0.89       231\n",
      "weighted avg       0.90      0.89      0.89       231\n",
      "\n",
      "Micro AVG:0.8917748917748918\n",
      "Macro AVG:0.9004034835987149\n"
     ]
    },
    {
     "data": {
      "image/png": "[encoded data removed]",
      "text/plain": [
       "<Figure size 432x288 with 2 Axes>"
      ]
     },
     "metadata": {
      "needs_background": "light"
     },
     "output_type": "display_data"
    },
    {
     "name": "stdout",
     "output_type": "stream",
     "text": [
      "<------------------------------------------------------------->\n",
      "Report of Model RandomForest\n",
      "              precision    recall  f1-score   support\n",
      "\n",
      "           0       0.70      0.90      0.79        49\n",
      "           1       0.96      0.98      0.97        52\n",
      "           2       0.93      0.96      0.94        52\n",
      "           3       0.88      0.51      0.65        41\n",
      "           4       1.00      1.00      1.00        37\n",
      "\n",
      "    accuracy                           0.88       231\n",
      "   macro avg       0.89      0.87      0.87       231\n",
      "weighted avg       0.89      0.88      0.87       231\n",
      "\n",
      "Micro AVG:0.8787878787878788\n",
      "Macro AVG:0.8923205550564042\n"
     ]
    },
    {
     "data": {
      "image/png": "[encoded data removed]",
      "text/plain": [
       "<Figure size 432x288 with 2 Axes>"
      ]
     },
     "metadata": {
      "needs_background": "light"
     },
     "output_type": "display_data"
    },
    {
     "name": "stdout",
     "output_type": "stream",
     "text": [
      "<------------------------------------------------------------->\n",
      "Report of Model NB\n",
      "              precision    recall  f1-score   support\n",
      "\n",
      "           0       0.68      0.55      0.61        49\n",
      "           1       0.85      0.98      0.91        52\n",
      "           2       0.89      0.60      0.71        52\n",
      "           3       0.80      0.59      0.68        41\n",
      "           4       0.56      1.00      0.72        37\n",
      "\n",
      "    accuracy                           0.74       231\n",
      "   macro avg       0.75      0.74      0.72       231\n",
      "weighted avg       0.77      0.74      0.73       231\n",
      "\n",
      "Micro AVG:0.7359307359307359\n",
      "Macro AVG:0.7542640692640692\n"
     ]
    },
    {
     "data": {
      "image/png": "[encoded data removed]",
      "text/plain": [
       "<Figure size 432x288 with 2 Axes>"
      ]
     },
     "metadata": {
      "needs_background": "light"
     },
     "output_type": "display_data"
    },
    {
     "name": "stdout",
     "output_type": "stream",
     "text": [
      "<------------------------------------------------------------->\n",
      "Report of Model SVM\n",
      "              precision    recall  f1-score   support\n",
      "\n",
      "           0       0.75      0.82      0.78        49\n",
      "           1       0.98      0.92      0.95        52\n",
      "           2       0.89      0.65      0.76        52\n",
      "           3       0.56      0.80      0.66        41\n",
      "           4       1.00      0.86      0.93        37\n",
      "\n",
      "    accuracy                           0.81       231\n",
      "   macro avg       0.84      0.81      0.82       231\n",
      "weighted avg       0.84      0.81      0.82       231\n",
      "\n",
      "Micro AVG:0.8095238095238095\n",
      "Macro AVG:0.8376735387740675\n"
     ]
    },
    {
     "data": {
      "image/png": "[encoded data removed]",
      "text/plain": [
       "<Figure size 432x288 with 2 Axes>"
      ]
     },
     "metadata": {
      "needs_background": "light"
     },
     "output_type": "display_data"
    },
    {
     "name": "stdout",
     "output_type": "stream",
     "text": [
      "<------------------------------------------------------------->\n"
     ]
    }
   ],
   "source": [
    "fetch_reports(X_trainRaw,X_testRaw,y_trainRaw,y_testRaw,'Raw')"
   ]
  },
  {
   "cell_type": "code",
   "execution_count": 201,
   "metadata": {},
   "outputs": [
    {
     "name": "stdout",
     "output_type": "stream",
     "text": [
      "Reprot for Bag of words NGRAM\n",
      "Report of Model LogisticRegression\n",
      "              precision    recall  f1-score   support\n",
      "\n",
      "           0       0.65      0.92      0.76        49\n",
      "           1       0.96      0.98      0.97        52\n",
      "           2       1.00      0.79      0.88        52\n",
      "           3       0.84      0.63      0.72        41\n",
      "           4       1.00      1.00      1.00        37\n",
      "\n",
      "    accuracy                           0.87       231\n",
      "   macro avg       0.89      0.86      0.87       231\n",
      "weighted avg       0.89      0.87      0.87       231\n",
      "\n",
      "Micro AVG:0.8658008658008658\n",
      "Macro AVG:0.8906295482812459\n"
     ]
    },
    {
     "data": {
      "image/png": "[encoded data removed]",
      "text/plain": [
       "<Figure size 432x288 with 2 Axes>"
      ]
     },
     "metadata": {
      "needs_background": "light"
     },
     "output_type": "display_data"
    },
    {
     "name": "stdout",
     "output_type": "stream",
     "text": [
      "<------------------------------------------------------------->\n",
      "Report of Model Perceptron\n",
      "              precision    recall  f1-score   support\n",
      "\n",
      "           0       0.75      0.92      0.83        49\n",
      "           1       0.96      0.98      0.97        52\n",
      "           2       0.93      0.83      0.88        52\n",
      "           3       0.83      0.71      0.76        41\n",
      "           4       1.00      1.00      1.00        37\n",
      "\n",
      "    accuracy                           0.89       231\n",
      "   macro avg       0.90      0.89      0.89       231\n",
      "weighted avg       0.89      0.89      0.89       231\n",
      "\n",
      "Micro AVG:0.8874458874458875\n",
      "Macro AVG:0.8951236376420955\n"
     ]
    },
    {
     "data": {
      "image/png": "[encoded data removed]",
      "text/plain": [
       "<Figure size 432x288 with 2 Axes>"
      ]
     },
     "metadata": {
      "needs_background": "light"
     },
     "output_type": "display_data"
    },
    {
     "name": "stdout",
     "output_type": "stream",
     "text": [
      "<------------------------------------------------------------->\n",
      "Report of Model RandomForest\n",
      "              precision    recall  f1-score   support\n",
      "\n",
      "           0       0.59      0.94      0.72        49\n",
      "           1       0.96      0.98      0.97        52\n",
      "           2       0.98      0.79      0.87        52\n",
      "           3       0.81      0.41      0.55        41\n",
      "           4       1.00      1.00      1.00        37\n",
      "\n",
      "    accuracy                           0.83       231\n",
      "   macro avg       0.87      0.82      0.82       231\n",
      "weighted avg       0.87      0.83      0.83       231\n",
      "\n",
      "Micro AVG:0.8311688311688312\n",
      "Macro AVG:0.8675444052802543\n"
     ]
    },
    {
     "data": {
      "image/png": "[encoded data removed]",
      "text/plain": [
       "<Figure size 432x288 with 2 Axes>"
      ]
     },
     "metadata": {
      "needs_background": "light"
     },
     "output_type": "display_data"
    },
    {
     "name": "stdout",
     "output_type": "stream",
     "text": [
      "<------------------------------------------------------------->\n",
      "Report of Model NB\n",
      "              precision    recall  f1-score   support\n",
      "\n",
      "           0       0.55      0.55      0.55        49\n",
      "           1       0.93      0.98      0.95        52\n",
      "           2       0.97      0.60      0.74        52\n",
      "           3       0.86      0.44      0.58        41\n",
      "           4       0.50      1.00      0.67        37\n",
      "\n",
      "    accuracy                           0.71       231\n",
      "   macro avg       0.76      0.71      0.70       231\n",
      "weighted avg       0.78      0.71      0.71       231\n",
      "\n",
      "Micro AVG:0.70995670995671\n",
      "Macro AVG:0.7608371985157699\n"
     ]
    },
    {
     "data": {
      "image/png": "[encoded data removed]",
      "text/plain": [
       "<Figure size 432x288 with 2 Axes>"
      ]
     },
     "metadata": {
      "needs_background": "light"
     },
     "output_type": "display_data"
    },
    {
     "name": "stdout",
     "output_type": "stream",
     "text": [
      "<------------------------------------------------------------->\n",
      "Report of Model SVM\n",
      "              precision    recall  f1-score   support\n",
      "\n",
      "           0       0.72      0.86      0.79        49\n",
      "           1       1.00      0.83      0.91        52\n",
      "           2       1.00      0.52      0.68        52\n",
      "           3       0.48      0.85      0.61        41\n",
      "           4       1.00      0.81      0.90        37\n",
      "\n",
      "    accuracy                           0.77       231\n",
      "   macro avg       0.84      0.77      0.78       231\n",
      "weighted avg       0.85      0.77      0.78       231\n",
      "\n",
      "Micro AVG:0.7662337662337663\n",
      "Macro AVG:0.8407179971658006\n"
     ]
    },
    {
     "data": {
      "image/png": "[encoded data removed]",
      "text/plain": [
       "<Figure size 432x288 with 2 Axes>"
      ]
     },
     "metadata": {
      "needs_background": "light"
     },
     "output_type": "display_data"
    },
    {
     "name": "stdout",
     "output_type": "stream",
     "text": [
      "<------------------------------------------------------------->\n"
     ]
    }
   ],
   "source": [
    "fetch_reports(X_trainNGRAM,X_testNGRAM,y_trainNGRAM,y_testNGRAM,'NGRAM')"
   ]
  },
  {
   "cell_type": "code",
   "execution_count": 202,
   "metadata": {},
   "outputs": [
    {
     "name": "stdout",
     "output_type": "stream",
     "text": [
      "Reprot for Bag of words TFIDF\n",
      "Report of Model LogisticRegression\n",
      "              precision    recall  f1-score   support\n",
      "\n",
      "           0       1.00      1.00      1.00        49\n",
      "           1       1.00      1.00      1.00        52\n",
      "           2       1.00      0.90      0.95        52\n",
      "           3       0.89      1.00      0.94        41\n",
      "           4       1.00      1.00      1.00        37\n",
      "\n",
      "    accuracy                           0.98       231\n",
      "   macro avg       0.98      0.98      0.98       231\n",
      "weighted avg       0.98      0.98      0.98       231\n",
      "\n",
      "Micro AVG:0.9783549783549783\n",
      "Macro AVG:0.9782608695652174\n"
     ]
    },
    {
     "data": {
      "image/png": "[encoded data removed]",
      "text/plain": [
       "<Figure size 432x288 with 2 Axes>"
      ]
     },
     "metadata": {
      "needs_background": "light"
     },
     "output_type": "display_data"
    },
    {
     "name": "stdout",
     "output_type": "stream",
     "text": [
      "<------------------------------------------------------------->\n",
      "Report of Model Perceptron\n",
      "              precision    recall  f1-score   support\n",
      "\n",
      "           0       0.98      1.00      0.99        49\n",
      "           1       1.00      0.96      0.98        52\n",
      "           2       0.81      1.00      0.90        52\n",
      "           3       1.00      0.76      0.86        41\n",
      "           4       1.00      0.97      0.99        37\n",
      "\n",
      "    accuracy                           0.94       231\n",
      "   macro avg       0.96      0.94      0.94       231\n",
      "weighted avg       0.95      0.94      0.94       231\n",
      "\n",
      "Micro AVG:0.9437229437229437\n",
      "Macro AVG:0.9585000000000001\n"
     ]
    },
    {
     "data": {
      "image/png": "[encoded data removed]",
      "text/plain": [
       "<Figure size 432x288 with 2 Axes>"
      ]
     },
     "metadata": {
      "needs_background": "light"
     },
     "output_type": "display_data"
    },
    {
     "name": "stdout",
     "output_type": "stream",
     "text": [
      "<------------------------------------------------------------->\n",
      "Report of Model RandomForest\n",
      "              precision    recall  f1-score   support\n",
      "\n",
      "           0       1.00      1.00      1.00        49\n",
      "           1       0.98      1.00      0.99        52\n",
      "           2       0.98      0.90      0.94        52\n",
      "           3       0.91      0.98      0.94        41\n",
      "           4       1.00      1.00      1.00        37\n",
      "\n",
      "    accuracy                           0.97       231\n",
      "   macro avg       0.97      0.98      0.97       231\n",
      "weighted avg       0.97      0.97      0.97       231\n",
      "\n",
      "Micro AVG:0.974025974025974\n",
      "Macro AVG:0.9738779302458548\n"
     ]
    },
    {
     "data": {
      "image/png": "[encoded data removed]",
      "text/plain": [
       "<Figure size 432x288 with 2 Axes>"
      ]
     },
     "metadata": {
      "needs_background": "light"
     },
     "output_type": "display_data"
    },
    {
     "name": "stdout",
     "output_type": "stream",
     "text": [
      "<------------------------------------------------------------->\n",
      "Report of Model NB\n",
      "              precision    recall  f1-score   support\n",
      "\n",
      "           0       0.89      1.00      0.94        49\n",
      "           1       0.91      1.00      0.95        52\n",
      "           2       0.91      0.81      0.86        52\n",
      "           3       1.00      0.59      0.74        41\n",
      "           4       0.76      1.00      0.86        37\n",
      "\n",
      "    accuracy                           0.88       231\n",
      "   macro avg       0.89      0.88      0.87       231\n",
      "weighted avg       0.90      0.88      0.88       231\n",
      "\n",
      "Micro AVG:0.8831168831168831\n",
      "Macro AVG:0.8942670623481346\n"
     ]
    },
    {
     "data": {
      "image/png": "[encoded data removed]",
      "text/plain": [
       "<Figure size 432x288 with 2 Axes>"
      ]
     },
     "metadata": {
      "needs_background": "light"
     },
     "output_type": "display_data"
    },
    {
     "name": "stdout",
     "output_type": "stream",
     "text": [
      "<------------------------------------------------------------->\n",
      "Report of Model SVM\n",
      "              precision    recall  f1-score   support\n",
      "\n",
      "           0       1.00      1.00      1.00        49\n",
      "           1       1.00      0.94      0.97        52\n",
      "           2       1.00      0.75      0.86        52\n",
      "           3       0.69      1.00      0.82        41\n",
      "           4       1.00      0.95      0.97        37\n",
      "\n",
      "    accuracy                           0.92       231\n",
      "   macro avg       0.94      0.93      0.92       231\n",
      "weighted avg       0.95      0.92      0.92       231\n",
      "\n",
      "Micro AVG:0.922077922077922\n",
      "Macro AVG:0.9389830508474576\n"
     ]
    },
    {
     "data": {
      "image/png": "[encoded data removed]",
      "text/plain": [
       "<Figure size 432x288 with 2 Axes>"
      ]
     },
     "metadata": {
      "needs_background": "light"
     },
     "output_type": "display_data"
    },
    {
     "name": "stdout",
     "output_type": "stream",
     "text": [
      "<------------------------------------------------------------->\n"
     ]
    }
   ],
   "source": [
    "fetch_reports(X_trainTF,X_testTF,y_trainTF,y_testTF,'TFIDF')"
   ]
  },
  {
   "cell_type": "code",
   "execution_count": null,
   "metadata": {},
   "outputs": [],
   "source": []
  }
 ],
 "metadata": {
  "colab": {
   "collapsed_sections": [],
   "provenance": []
  },
  "kernelspec": {
   "display_name": "Python 3 (ipykernel)",
   "language": "python",
   "name": "python3"
  },
  "language_info": {
   "codemirror_mode": {
    "name": "ipython",
    "version": 3
   },
   "file_extension": ".py",
   "mimetype": "text/x-python",
   "name": "python",
   "nbconvert_exporter": "python",
   "pygments_lexer": "ipython3",
   "version": "3.9.12"
  },
  "varInspector": {
   "cols": {
    "lenName": 16,
    "lenType": 16,
    "lenVar": 40
   },
   "kernels_config": {
    "python": {
     "delete_cmd_postfix": "",
     "delete_cmd_prefix": "del ",
     "library": "var_list.py",
     "varRefreshCmd": "print(var_dic_list())"
    },
    "r": {
     "delete_cmd_postfix": ") ",
     "delete_cmd_prefix": "rm(",
     "library": "var_list.r",
     "varRefreshCmd": "cat(var_dic_list()) "
    }
   },
   "types_to_exclude": [
    "module",
    "function",
    "builtin_function_or_method",
    "instance",
    "_Feature"
   ],
   "window_display": false
  }
 },
 "nbformat": 4,
 "nbformat_minor": 1
}
